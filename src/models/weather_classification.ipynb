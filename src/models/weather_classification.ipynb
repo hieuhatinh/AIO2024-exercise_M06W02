{
  "cells": [
    {
      "cell_type": "code",
      "source": [
        "from google.colab import drive\n",
        "drive.mount('/content/drive')"
      ],
      "metadata": {
        "colab": {
          "base_uri": "https://localhost:8080/"
        },
        "id": "pCmq5c2jX-Em",
        "outputId": "5d55f230-96ee-4b30-fe5c-5587a1710667"
      },
      "execution_count": 1,
      "outputs": [
        {
          "output_type": "stream",
          "name": "stdout",
          "text": [
            "Mounted at /content/drive\n"
          ]
        }
      ]
    },
    {
      "cell_type": "markdown",
      "metadata": {
        "id": "Us9KMH1aqy5j"
      },
      "source": [
        "#### Import thư viện"
      ]
    },
    {
      "cell_type": "code",
      "execution_count": 1,
      "metadata": {
        "id": "AgmNWu5yqy5l"
      },
      "outputs": [],
      "source": [
        "import torch\n",
        "import torch.nn as nn\n",
        "import os\n",
        "import random\n",
        "import numpy as np\n",
        "import pandas as pd\n",
        "import matplotlib.pyplot as plt\n",
        "\n",
        "from PIL import Image\n",
        "from torch.utils.data import Dataset, DataLoader\n",
        "from sklearn.model_selection import train_test_split"
      ]
    },
    {
      "cell_type": "markdown",
      "metadata": {
        "id": "LxdT9mXXqy5m"
      },
      "source": [
        "#### Cố định giá trị ngẫu nhiên"
      ]
    },
    {
      "cell_type": "code",
      "execution_count": 2,
      "metadata": {
        "id": "_ywssUSwqy5m"
      },
      "outputs": [],
      "source": [
        "def set_seed(seed):\n",
        "    random.seed(seed)\n",
        "    np.random.seed(seed)\n",
        "    torch.manual_seed(seed)\n",
        "    torch.cuda.manual_seed(seed)\n",
        "    torch.cuda.manual_seed_all(seed)\n",
        "    torch.backends.cudnn.deterministic = True\n",
        "    torch.backends.cudnn.benchmark = False\n",
        "\n",
        "seed = 59\n",
        "set_seed(seed)"
      ]
    },
    {
      "cell_type": "markdown",
      "metadata": {
        "id": "UWDU8H1rqy5m"
      },
      "source": [
        "#### Đọc dữ liệu"
      ]
    },
    {
      "cell_type": "code",
      "execution_count": 3,
      "metadata": {
        "id": "cMwP1O9Yqy5m"
      },
      "outputs": [],
      "source": [
        "root_dir = '/content/drive/MyDrive/AIO2024/M06/W02/Data/weather-dataset/dataset'\n",
        "img_paths = []\n",
        "labels = []\n",
        "classes = {\n",
        "    label_idx: class_name for label_idx, class_name in enumerate(sorted(os.listdir(root_dir)))\n",
        "}"
      ]
    },
    {
      "cell_type": "code",
      "execution_count": 4,
      "metadata": {
        "id": "N7xeIffrqy5n"
      },
      "outputs": [],
      "source": [
        "img_paths = []\n",
        "labels = []\n",
        "for label_idx, class_name in classes.items():\n",
        "    class_dir = os.path.join(root_dir, class_name)\n",
        "    for img_filename in os.listdir(class_dir):\n",
        "        img_path = os.path.join(class_dir, img_filename)\n",
        "        img_paths.append(img_path)\n",
        "        labels.append(label_idx)"
      ]
    },
    {
      "cell_type": "markdown",
      "metadata": {
        "id": "HVBkoQhdqy5n"
      },
      "source": [
        "#### Chia bộ dữ liệu train, val, test"
      ]
    },
    {
      "cell_type": "code",
      "execution_count": 5,
      "metadata": {
        "id": "u1b_JLQ6qy5n"
      },
      "outputs": [],
      "source": [
        "val_size = 0.2\n",
        "test_size = 0.125\n",
        "is_shuffle = True\n",
        "\n",
        "X_train, X_val, y_train, y_val = train_test_split(\n",
        "    img_paths, labels,\n",
        "    test_size=val_size,\n",
        "    random_state=seed,\n",
        "    shuffle=is_shuffle\n",
        ")\n",
        "\n",
        "X_train, X_test, y_train, y_test = train_test_split(\n",
        "    X_train, y_train,\n",
        "    test_size=test_size,\n",
        "    random_state=seed,\n",
        "    shuffle=is_shuffle\n",
        ")"
      ]
    },
    {
      "cell_type": "markdown",
      "metadata": {
        "id": "YK-AWudUqy5n"
      },
      "source": [
        "#### Class pytorch datasets"
      ]
    },
    {
      "cell_type": "code",
      "execution_count": 6,
      "metadata": {
        "id": "_VGop1Ikqy5n"
      },
      "outputs": [],
      "source": [
        "class WeatherDataset(Dataset):\n",
        "    def __init__(self, X, y, transform=None):\n",
        "        self.transform = transform\n",
        "        self.img_paths = X\n",
        "        self.labels = y\n",
        "\n",
        "    def __len__(self):\n",
        "        return len(self.img_paths)\n",
        "\n",
        "    def __getitem__(self, idx):\n",
        "        img_path = self.img_paths[idx]\n",
        "        img = Image.open(img_path).convert('RGB')\n",
        "\n",
        "        if self.transform:\n",
        "            img = self.transform(img)\n",
        "        return img, self.labels[idx]"
      ]
    },
    {
      "cell_type": "markdown",
      "metadata": {
        "id": "cP1r3lXRqy5n"
      },
      "source": [
        "#### Xây dựng hàm tiền xử lý ảnh"
      ]
    },
    {
      "cell_type": "code",
      "execution_count": 7,
      "metadata": {
        "id": "5tR5N3Quqy5n"
      },
      "outputs": [],
      "source": [
        "def transform(img, img_size=(224, 224)):\n",
        "    img = img.resize(img_size)\n",
        "    img = np.array(img)[..., :3]\n",
        "    img = torch.tensor(img).permute(2, 0, 1).float()\n",
        "    normalized_img = img / 255.0\n",
        "    return normalized_img"
      ]
    },
    {
      "cell_type": "markdown",
      "metadata": {
        "id": "LrIn6Udiqy5n"
      },
      "source": [
        "#### Khai báo datasets object cho 3 bộ train, val, test"
      ]
    },
    {
      "cell_type": "code",
      "execution_count": 8,
      "metadata": {
        "id": "Ql6CvvByqy5o"
      },
      "outputs": [],
      "source": [
        "train_dataset = WeatherDataset(\n",
        "    X_train, y_train,\n",
        "    transform=transform\n",
        ")\n",
        "\n",
        "val_dataset = WeatherDataset(\n",
        "    X_val, y_val,\n",
        "    transform=transform\n",
        ")\n",
        "\n",
        "test_dataset = WeatherDataset(\n",
        "    X_test, y_test,\n",
        "    transform=transform\n",
        ")"
      ]
    },
    {
      "cell_type": "markdown",
      "metadata": {
        "id": "SKChhugNqy5o"
      },
      "source": [
        "#### Khai báo dataloader"
      ]
    },
    {
      "cell_type": "code",
      "execution_count": 9,
      "metadata": {
        "id": "wDXpEISDqy5o"
      },
      "outputs": [],
      "source": [
        "train_batch_size = 512\n",
        "test_batch_size = 8\n",
        "\n",
        "train_loader = DataLoader(\n",
        "    train_dataset,\n",
        "    batch_size=train_batch_size,\n",
        "    shuffle=True\n",
        ")\n",
        "\n",
        "val_loader = DataLoader(\n",
        "    val_dataset,\n",
        "    batch_size=test_batch_size,\n",
        "    shuffle=False\n",
        ")\n",
        "\n",
        "test_loader = DataLoader(\n",
        "    test_dataset,\n",
        "    batch_size=test_batch_size,\n",
        "    shuffle=False\n",
        ")"
      ]
    },
    {
      "cell_type": "markdown",
      "metadata": {
        "id": "89bG8OWxqy5o"
      },
      "source": [
        "#### Xây dựng model"
      ]
    },
    {
      "cell_type": "code",
      "execution_count": 10,
      "metadata": {
        "id": "RVQZmV8rqy5o"
      },
      "outputs": [],
      "source": [
        "class ResidualBlock(nn.Module):\n",
        "    def __init__(self, in_channels, out_channels, stride=1) -> None:\n",
        "        super(ResidualBlock, self).__init__()\n",
        "        self.conv1 = nn.Conv2d(in_channels, out_channels, kernel_size=3,\n",
        "                               stride=stride, padding=1)\n",
        "        self.batch_norm1 = nn.BatchNorm2d(out_channels)\n",
        "        self.conv2 = nn.Conv2d(out_channels, out_channels,\n",
        "                               kernel_size=3, stride=1, padding=1)\n",
        "        self.batch_norm2 = nn.BatchNorm2d(out_channels)\n",
        "        self.downsample = nn.Sequential()\n",
        "\n",
        "        if stride != 1 or in_channels != out_channels:\n",
        "            self.downsample = nn.Sequential(\n",
        "                nn.Conv2d(in_channels, out_channels, kernel_size=1, stride=stride),\n",
        "                nn.BatchNorm2d(out_channels)\n",
        "            )\n",
        "        self.relu = nn.ReLU()\n",
        "\n",
        "    def forward(self, x):\n",
        "        shortcut = x.clone()\n",
        "        x = self.conv1(x)\n",
        "        x = self.batch_norm1(x)\n",
        "        x = self.relu(x)\n",
        "        x = self.conv2(x)\n",
        "        x = self.batch_norm2(x)\n",
        "        x += self.downsample(shortcut)\n",
        "        return x"
      ]
    },
    {
      "cell_type": "code",
      "execution_count": 11,
      "metadata": {
        "id": "tiz8wPoqqy5o"
      },
      "outputs": [],
      "source": [
        "class ResNet(nn.Module):\n",
        "    def __init__(self, residual_block, n_blocks_lst, n_classes):\n",
        "        super(ResNet, self).__init__()\n",
        "        self.conv1 = nn.Conv2d(3, 64, kernel_size=7, stride=2, padding=3)\n",
        "        self.batch_norm1 = nn.BatchNorm2d(64)\n",
        "        self.relu = nn.ReLU()\n",
        "        self.maxpool = nn.MaxPool2d(kernel_size=3, stride=2, padding=1)\n",
        "        self.conv2 = self.create_layer(residual_block, 64, 64, n_blocks_lst[0], 2)\n",
        "        self.conv3 = self.create_layer(residual_block, 64, 128, n_blocks_lst[1], 2)\n",
        "        self.conv4 = self.create_layer(residual_block, 128, 256, n_blocks_lst[2], 2)\n",
        "        self.conv5 = self.create_layer(residual_block, 256, 512, n_blocks_lst[3], 2)\n",
        "        self.avgpool = nn.AdaptiveAvgPool2d(1)\n",
        "        self.flatten = nn.Flatten()\n",
        "        self.fc1 = nn.Linear(512, n_classes)\n",
        "\n",
        "    def create_layer(self, residual_block, in_channels, out_channels, n_blocks, stride):\n",
        "        blocks = []\n",
        "        first_block = residual_block(in_channels, out_channels, stride)\n",
        "        blocks.append(first_block)\n",
        "\n",
        "        for idx in range(1, n_blocks):\n",
        "            block = residual_block(out_channels, out_channels, stride)\n",
        "            blocks.append(block)\n",
        "\n",
        "        block_sequential = nn.Sequential(*blocks)\n",
        "        return block_sequential\n",
        "\n",
        "    def forward(self, x):\n",
        "        x = self.conv1(x)\n",
        "        x = self.batch_norm1(x)\n",
        "        x = self.maxpool(x)\n",
        "        x = self.relu(x)\n",
        "        x = self.conv2(x)\n",
        "        x = self.conv3(x)\n",
        "        x = self.conv4(x)\n",
        "        x = self.conv5(x)\n",
        "        x = self.avgpool(x)\n",
        "        x = self.flatten(x)\n",
        "        x = self.fc1(x)\n",
        "        return x"
      ]
    },
    {
      "cell_type": "code",
      "execution_count": 12,
      "metadata": {
        "id": "HJ6IakOQqy5o"
      },
      "outputs": [],
      "source": [
        "n_classes = len(list(classes.keys()))\n",
        "device = 'cuda' if torch.cuda.is_available() else 'cpu'\n",
        "\n",
        "model = ResNet(\n",
        "    residual_block=ResidualBlock,\n",
        "    n_blocks_lst=[2, 2, 2, 2],\n",
        "    n_classes=n_classes\n",
        ").to(device)"
      ]
    },
    {
      "cell_type": "code",
      "source": [
        "from torchsummary import summary\n",
        "summary(model, input_size=(3, 224, 224))"
      ],
      "metadata": {
        "id": "s87iQingq_nH",
        "colab": {
          "base_uri": "https://localhost:8080/"
        },
        "outputId": "4884a24c-90ff-48c1-c170-7a4f846fbf42"
      },
      "execution_count": 13,
      "outputs": [
        {
          "output_type": "stream",
          "name": "stdout",
          "text": [
            "----------------------------------------------------------------\n",
            "        Layer (type)               Output Shape         Param #\n",
            "================================================================\n",
            "            Conv2d-1         [-1, 64, 112, 112]           9,472\n",
            "       BatchNorm2d-2         [-1, 64, 112, 112]             128\n",
            "         MaxPool2d-3           [-1, 64, 56, 56]               0\n",
            "              ReLU-4           [-1, 64, 56, 56]               0\n",
            "            Conv2d-5           [-1, 64, 28, 28]          36,928\n",
            "       BatchNorm2d-6           [-1, 64, 28, 28]             128\n",
            "              ReLU-7           [-1, 64, 28, 28]               0\n",
            "            Conv2d-8           [-1, 64, 28, 28]          36,928\n",
            "       BatchNorm2d-9           [-1, 64, 28, 28]             128\n",
            "           Conv2d-10           [-1, 64, 28, 28]           4,160\n",
            "      BatchNorm2d-11           [-1, 64, 28, 28]             128\n",
            "    ResidualBlock-12           [-1, 64, 28, 28]               0\n",
            "           Conv2d-13           [-1, 64, 14, 14]          36,928\n",
            "      BatchNorm2d-14           [-1, 64, 14, 14]             128\n",
            "             ReLU-15           [-1, 64, 14, 14]               0\n",
            "           Conv2d-16           [-1, 64, 14, 14]          36,928\n",
            "      BatchNorm2d-17           [-1, 64, 14, 14]             128\n",
            "           Conv2d-18           [-1, 64, 14, 14]           4,160\n",
            "      BatchNorm2d-19           [-1, 64, 14, 14]             128\n",
            "    ResidualBlock-20           [-1, 64, 14, 14]               0\n",
            "           Conv2d-21            [-1, 128, 7, 7]          73,856\n",
            "      BatchNorm2d-22            [-1, 128, 7, 7]             256\n",
            "             ReLU-23            [-1, 128, 7, 7]               0\n",
            "           Conv2d-24            [-1, 128, 7, 7]         147,584\n",
            "      BatchNorm2d-25            [-1, 128, 7, 7]             256\n",
            "           Conv2d-26            [-1, 128, 7, 7]           8,320\n",
            "      BatchNorm2d-27            [-1, 128, 7, 7]             256\n",
            "    ResidualBlock-28            [-1, 128, 7, 7]               0\n",
            "           Conv2d-29            [-1, 128, 4, 4]         147,584\n",
            "      BatchNorm2d-30            [-1, 128, 4, 4]             256\n",
            "             ReLU-31            [-1, 128, 4, 4]               0\n",
            "           Conv2d-32            [-1, 128, 4, 4]         147,584\n",
            "      BatchNorm2d-33            [-1, 128, 4, 4]             256\n",
            "           Conv2d-34            [-1, 128, 4, 4]          16,512\n",
            "      BatchNorm2d-35            [-1, 128, 4, 4]             256\n",
            "    ResidualBlock-36            [-1, 128, 4, 4]               0\n",
            "           Conv2d-37            [-1, 256, 2, 2]         295,168\n",
            "      BatchNorm2d-38            [-1, 256, 2, 2]             512\n",
            "             ReLU-39            [-1, 256, 2, 2]               0\n",
            "           Conv2d-40            [-1, 256, 2, 2]         590,080\n",
            "      BatchNorm2d-41            [-1, 256, 2, 2]             512\n",
            "           Conv2d-42            [-1, 256, 2, 2]          33,024\n",
            "      BatchNorm2d-43            [-1, 256, 2, 2]             512\n",
            "    ResidualBlock-44            [-1, 256, 2, 2]               0\n",
            "           Conv2d-45            [-1, 256, 1, 1]         590,080\n",
            "      BatchNorm2d-46            [-1, 256, 1, 1]             512\n",
            "             ReLU-47            [-1, 256, 1, 1]               0\n",
            "           Conv2d-48            [-1, 256, 1, 1]         590,080\n",
            "      BatchNorm2d-49            [-1, 256, 1, 1]             512\n",
            "           Conv2d-50            [-1, 256, 1, 1]          65,792\n",
            "      BatchNorm2d-51            [-1, 256, 1, 1]             512\n",
            "    ResidualBlock-52            [-1, 256, 1, 1]               0\n",
            "           Conv2d-53            [-1, 512, 1, 1]       1,180,160\n",
            "      BatchNorm2d-54            [-1, 512, 1, 1]           1,024\n",
            "             ReLU-55            [-1, 512, 1, 1]               0\n",
            "           Conv2d-56            [-1, 512, 1, 1]       2,359,808\n",
            "      BatchNorm2d-57            [-1, 512, 1, 1]           1,024\n",
            "           Conv2d-58            [-1, 512, 1, 1]         131,584\n",
            "      BatchNorm2d-59            [-1, 512, 1, 1]           1,024\n",
            "    ResidualBlock-60            [-1, 512, 1, 1]               0\n",
            "           Conv2d-61            [-1, 512, 1, 1]       2,359,808\n",
            "      BatchNorm2d-62            [-1, 512, 1, 1]           1,024\n",
            "             ReLU-63            [-1, 512, 1, 1]               0\n",
            "           Conv2d-64            [-1, 512, 1, 1]       2,359,808\n",
            "      BatchNorm2d-65            [-1, 512, 1, 1]           1,024\n",
            "           Conv2d-66            [-1, 512, 1, 1]         262,656\n",
            "      BatchNorm2d-67            [-1, 512, 1, 1]           1,024\n",
            "    ResidualBlock-68            [-1, 512, 1, 1]               0\n",
            "AdaptiveAvgPool2d-69            [-1, 512, 1, 1]               0\n",
            "          Flatten-70                  [-1, 512]               0\n",
            "           Linear-71                   [-1, 11]           5,643\n",
            "================================================================\n",
            "Total params: 11,542,283\n",
            "Trainable params: 11,542,283\n",
            "Non-trainable params: 0\n",
            "----------------------------------------------------------------\n",
            "Input size (MB): 0.57\n",
            "Forward/backward pass size (MB): 19.80\n",
            "Params size (MB): 44.03\n",
            "Estimated Total Size (MB): 64.40\n",
            "----------------------------------------------------------------\n"
          ]
        }
      ]
    },
    {
      "cell_type": "markdown",
      "metadata": {
        "id": "YJEBtqc3qy5o"
      },
      "source": [
        "#### Xây dựng hàm đánh giá model"
      ]
    },
    {
      "cell_type": "code",
      "execution_count": 14,
      "metadata": {
        "id": "sj0XI6WYqy5o"
      },
      "outputs": [],
      "source": [
        "def evaluate(model, dataloader, criterion, device):\n",
        "    model.eval()\n",
        "    correct = 0\n",
        "    total = 0\n",
        "    losses = []\n",
        "    with torch.no_grad():\n",
        "        for inputs, labels in dataloader:\n",
        "            inputs, labels = inputs.to(device), labels.to(device)\n",
        "            outputs = model(inputs)\n",
        "            loss = criterion(outputs, labels)\n",
        "            losses.append(loss.item())\n",
        "            _, predicted = torch.max(outputs.data, 1)\n",
        "            total += labels.size(0)\n",
        "            correct += (predicted == labels).sum().item()\n",
        "\n",
        "    loss = sum(losses) /  len(losses)\n",
        "    acc = correct / total\n",
        "    return loss, acc"
      ]
    },
    {
      "cell_type": "markdown",
      "metadata": {
        "id": "d9qCSB-Cqy5o"
      },
      "source": [
        "#### Xây dựng hàm huấn luyện model"
      ]
    },
    {
      "cell_type": "code",
      "execution_count": 15,
      "metadata": {
        "id": "jSVhnApHqy5p"
      },
      "outputs": [],
      "source": [
        "def fit(model, train_loader, val_loader, criterion, optimizer, device, epochs):\n",
        "    train_losses = []\n",
        "    val_losses = []\n",
        "\n",
        "    for epoch in range(epochs):\n",
        "        batch_train_losses = []\n",
        "\n",
        "        model.train()\n",
        "        for idx, (inputs, labels) in enumerate(train_loader):\n",
        "            inputs, labels = inputs.to(device), labels.to(device)\n",
        "\n",
        "            optimizer.zero_grad()\n",
        "            outputs = model(inputs)\n",
        "            loss = criterion(outputs, labels)\n",
        "            loss.backward()\n",
        "            optimizer.step()\n",
        "\n",
        "            batch_train_losses.append(loss.item())\n",
        "\n",
        "        train_loss = sum(batch_train_losses) / len(batch_train_losses)\n",
        "        train_losses.append(train_loss)\n",
        "\n",
        "        val_loss, val_acc = evaluate(model, val_loader, criterion, device)\n",
        "        val_losses.append(val_loss)\n",
        "        print(f'EPOCH {epoch + 1}:\\tTrain loss: {train_loss:.4f}\\tVal loss: {val_loss:.4f}')\n",
        "\n",
        "    return train_losses, val_losses"
      ]
    },
    {
      "cell_type": "markdown",
      "metadata": {
        "id": "iIVdXq-Hqy5p"
      },
      "source": [
        "#### Khai báo hàm loss và thuật toán tối ưu hóa:"
      ]
    },
    {
      "cell_type": "code",
      "execution_count": 16,
      "metadata": {
        "id": "jcIbcEa_qy5p"
      },
      "outputs": [],
      "source": [
        "lr = 1e-2\n",
        "epochs = 25\n",
        "\n",
        "criterion = nn.CrossEntropyLoss()\n",
        "optimizer = torch.optim.SGD(\n",
        "    model.parameters(),\n",
        "    lr=lr\n",
        ")"
      ]
    },
    {
      "cell_type": "markdown",
      "metadata": {
        "id": "LfgoRc-6qy5p"
      },
      "source": [
        "#### Thực hiện huấn luyện"
      ]
    },
    {
      "cell_type": "code",
      "execution_count": 17,
      "metadata": {
        "id": "IyVKEAY3qy5p",
        "colab": {
          "base_uri": "https://localhost:8080/"
        },
        "outputId": "d2ac7cdc-f40f-4c62-b05e-025c6181e481"
      },
      "outputs": [
        {
          "output_type": "stream",
          "name": "stdout",
          "text": [
            "EPOCH 1:\tTrain loss: 1.5648\tVal loss: 2.4091\n",
            "EPOCH 2:\tTrain loss: 0.9061\tVal loss: 2.3702\n",
            "EPOCH 3:\tTrain loss: 0.6660\tVal loss: 2.1154\n",
            "EPOCH 4:\tTrain loss: 0.4279\tVal loss: 1.7311\n",
            "EPOCH 5:\tTrain loss: 0.2825\tVal loss: 1.2117\n",
            "EPOCH 6:\tTrain loss: 0.1704\tVal loss: 1.1172\n",
            "EPOCH 7:\tTrain loss: 0.1340\tVal loss: 1.1413\n",
            "EPOCH 8:\tTrain loss: 0.0827\tVal loss: 1.4469\n",
            "EPOCH 9:\tTrain loss: 0.0919\tVal loss: 1.1836\n",
            "EPOCH 10:\tTrain loss: 0.0427\tVal loss: 1.2793\n",
            "EPOCH 11:\tTrain loss: 0.0334\tVal loss: 1.2358\n",
            "EPOCH 12:\tTrain loss: 0.0255\tVal loss: 1.2507\n",
            "EPOCH 13:\tTrain loss: 0.0303\tVal loss: 1.2380\n",
            "EPOCH 14:\tTrain loss: 0.0191\tVal loss: 1.3819\n",
            "EPOCH 15:\tTrain loss: 0.0251\tVal loss: 1.2859\n",
            "EPOCH 16:\tTrain loss: 0.0193\tVal loss: 1.3740\n",
            "EPOCH 17:\tTrain loss: 0.0139\tVal loss: 1.3207\n",
            "EPOCH 18:\tTrain loss: 0.0112\tVal loss: 1.3252\n",
            "EPOCH 19:\tTrain loss: 0.0110\tVal loss: 1.2939\n",
            "EPOCH 20:\tTrain loss: 0.0080\tVal loss: 1.3249\n",
            "EPOCH 21:\tTrain loss: 0.0072\tVal loss: 1.4265\n",
            "EPOCH 22:\tTrain loss: 0.0068\tVal loss: 1.3293\n",
            "EPOCH 23:\tTrain loss: 0.0060\tVal loss: 1.3218\n",
            "EPOCH 24:\tTrain loss: 0.0053\tVal loss: 1.3359\n",
            "EPOCH 25:\tTrain loss: 0.0058\tVal loss: 1.3819\n"
          ]
        }
      ],
      "source": [
        "train_losses, val_losses = fit(\n",
        "    model,\n",
        "    train_loader,\n",
        "    val_loader,\n",
        "    criterion,\n",
        "    optimizer,\n",
        "    device,\n",
        "    epochs\n",
        ")\n",
        "\n",
        "# save weights model\n",
        "torch.save(model.state_dict(), 'weather_classification_weights.pt')"
      ]
    },
    {
      "cell_type": "code",
      "execution_count": 18,
      "metadata": {
        "id": "bqptmLTCqy5p",
        "colab": {
          "base_uri": "https://localhost:8080/",
          "height": 736
        },
        "outputId": "47145dda-a597-4fa0-e4a4-f6731fb37eb6"
      },
      "outputs": [
        {
          "output_type": "execute_result",
          "data": {
            "text/plain": [
              "Text(0, 0.5, 'Loss')"
            ]
          },
          "metadata": {},
          "execution_count": 18
        },
        {
          "output_type": "display_data",
          "data": {
            "text/plain": [
              "<Figure size 1000x800 with 2 Axes>"
            ],
            "image/png": "[encoded data removed]"
          },
          "metadata": {}
        }
      ],
      "source": [
        "fig, ax = plt.subplots(1, 2, figsize=(10, 8))\n",
        "\n",
        "ax[0].plot(train_losses)\n",
        "ax[0].set_title('Training Loss')\n",
        "ax[0].set_xlabel('Epoch')\n",
        "ax[0].set_ylabel('Loss')\n",
        "\n",
        "ax[1].plot(val_losses, color='orange')\n",
        "ax[1].set_title('Val Loss')\n",
        "ax[1].set_xlabel('Epoch')\n",
        "ax[1].set_ylabel('Loss')"
      ]
    },
    {
      "cell_type": "markdown",
      "metadata": {
        "id": "6MbbYxQlqy5p"
      },
      "source": [
        "#### Đánh giá mô hình"
      ]
    },
    {
      "cell_type": "code",
      "execution_count": 19,
      "metadata": {
        "id": "PIeh_YWLqy5p",
        "colab": {
          "base_uri": "https://localhost:8080/"
        },
        "outputId": "c547cecd-8b22-4d38-a13c-b79f1573b5ac"
      },
      "outputs": [
        {
          "output_type": "stream",
          "name": "stdout",
          "text": [
            "Evaluate on val/test dataset\n",
            "Val accuracy:  0.6742147552958364\n",
            "Test accuracy:  0.710948905109489\n"
          ]
        }
      ],
      "source": [
        "val_loss, val_acc = evaluate(\n",
        "    model,\n",
        "    val_loader,\n",
        "    criterion,\n",
        "    device\n",
        ")\n",
        "test_loss, test_acc = evaluate(\n",
        "    model,\n",
        "    test_loader,\n",
        "    criterion,\n",
        "    device\n",
        ")\n",
        "\n",
        "print('Evaluate on val/test dataset')\n",
        "print('Val accuracy: ', val_acc)\n",
        "print('Test accuracy: ', test_acc)"
      ]
    }
  ],
  "metadata": {
    "kernelspec": {
      "display_name": "Python 3",
      "name": "python3"
    },
    "language_info": {
      "codemirror_mode": {
        "name": "ipython",
        "version": 3
      },
      "file_extension": ".py",
      "mimetype": "text/x-python",
      "name": "python",
      "nbconvert_exporter": "python",
      "pygments_lexer": "ipython3",
      "version": "3.11.11"
    },
    "colab": {
      "provenance": []
    }
  },
  "nbformat": 4,
  "nbformat_minor": 0
}